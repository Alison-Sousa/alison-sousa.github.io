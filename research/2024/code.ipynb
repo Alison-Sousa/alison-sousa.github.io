{
  "nbformat": 4,
  "nbformat_minor": 0,
  "metadata": {
    "colab": {
      "provenance": []
    },
    "kernelspec": {
      "name": "python3",
      "display_name": "Python 3"
    },
    "language_info": {
      "name": "python"
    }
  },
  "cells": [
    {
      "cell_type": "code",
      "source": [
        "!pip install fpdf\n"
      ],
      "metadata": {
        "colab": {
          "base_uri": "https://localhost:8080/"
        },
        "id": "DoQwqe6nb7yp",
        "outputId": "a7749c6d-b5d6-4372-879a-c242d77f7f18"
      },
      "execution_count": 1,
      "outputs": [
        {
          "output_type": "stream",
          "name": "stdout",
          "text": [
            "Collecting fpdf\n",
            "  Downloading fpdf-1.7.2.tar.gz (39 kB)\n",
            "  Preparing metadata (setup.py) ... \u001b[?25l\u001b[?25hdone\n",
            "Building wheels for collected packages: fpdf\n",
            "  Building wheel for fpdf (setup.py) ... \u001b[?25l\u001b[?25hdone\n",
            "  Created wheel for fpdf: filename=fpdf-1.7.2-py2.py3-none-any.whl size=40704 sha256=af076ce7a8daee6dcb20991dcdf6b04371f071552a68d8fbeb9c15c334996010\n",
            "  Stored in directory: /root/.cache/pip/wheels/65/4f/66/bbda9866da446a72e206d6484cd97381cbc7859a7068541c36\n",
            "Successfully built fpdf\n",
            "Installing collected packages: fpdf\n",
            "Successfully installed fpdf-1.7.2\n"
          ]
        }
      ]
    },
    {
      "cell_type": "code",
      "source": [
        "import geopandas as gpd\n",
        "import matplotlib.pyplot as plt\n",
        "from matplotlib.patches import Patch\n",
        "from fpdf import FPDF\n",
        "import tempfile\n",
        "import os\n",
        "\n",
        "plt.switch_backend('agg')\n",
        "\n",
        "china = gpd.read_file(\"/content/drive/MyDrive/Data/China.json\")\n",
        "\n",
        "config = {\n",
        "    \"colors\": {\n",
        "        \"High-High\": \"#4daf4a\",\n",
        "        \"Low-Low\": \"#a6d854\",\n",
        "        \"Negative\": \"#e78ac3\",\n",
        "        \"Low-High\": \"#ffd92f\",\n",
        "        \"Not Significant\": \"#e0e0e0\"\n",
        "    },\n",
        "    \"years\": {\n",
        "        1991: {\"Low-Low\": [\"Sichuan\", \"Yunnan\"]},\n",
        "        2005: {\"High-High\": [\"Zhejiang\"], \"Low-Low\": [\"Sichuan\", \"Yunnan\"], \"Negative\": [\"Anhui\"]},\n",
        "        2009: {\"High-High\": [\"Zhejiang\"], \"Low-Low\": [\"Yunnan\", \"Sichuan\", \"Hubei\", \"Chongqing\"], \"Negative\": [\"Anhui\"]},\n",
        "        2010: {\"High-High\": [\"Zhejiang\"], \"Low-High\": [\"Anhui\"]}\n",
        "    }\n",
        "}\n",
        "\n",
        "def create_figure():\n",
        "    fig = plt.figure(figsize=(14, 12))\n",
        "    gs = fig.add_gridspec(3, 2, height_ratios=[1, 1, 0.2])\n",
        "\n",
        "    axes = [\n",
        "        fig.add_subplot(gs[0, 0]),\n",
        "        fig.add_subplot(gs[0, 1]),\n",
        "        fig.add_subplot(gs[1, 0]),\n",
        "        fig.add_subplot(gs[1, 1])\n",
        "    ]\n",
        "    legend_ax = fig.add_subplot(gs[2, :])\n",
        "\n",
        "    legend_elements = [\n",
        "        Patch(facecolor=\"#4daf4a\", label=\"High-High Cluster\"),\n",
        "        Patch(facecolor=\"#a6d854\", label=\"Low-Low Cluster\"),\n",
        "        Patch(facecolor=\"#e78ac3\", label=\"Negative Outlier\"),\n",
        "        Patch(facecolor=\"#ffd92f\", label=\"Low-High Outlier\"),\n",
        "        Patch(facecolor=\"#e0e0e0\", label=\"Not Significant\")\n",
        "    ]\n",
        "\n",
        "    for idx, year in enumerate(config[\"years\"]):\n",
        "        ax = axes[idx]\n",
        "        ax.set_title(f\"{year}\", fontsize=12, pad=10)\n",
        "        ax.set_axis_off()\n",
        "        china.plot(ax=ax, color=\"#e0e0e0\", edgecolor=\"black\", linewidth=0.3)\n",
        "\n",
        "        for cluster, provinces in config[\"years\"][year].items():\n",
        "            for prov in provinces:\n",
        "                if prov in china[\"NAME_1\"].values:\n",
        "                    china[china[\"NAME_1\"] == prov].plot(\n",
        "                        ax=ax,\n",
        "                        color=config[\"colors\"].get(cluster, \"#e0e0e0\"),\n",
        "                        edgecolor=\"black\",\n",
        "                        linewidth=0.3\n",
        "                    )\n",
        "\n",
        "    legend_ax.axis('off')\n",
        "    legend = legend_ax.legend(\n",
        "        handles=legend_elements,\n",
        "        loc='center',\n",
        "        ncol=5,\n",
        "        frameon=False,\n",
        "        fontsize=10,\n",
        "        title=\"LISA Cluster Classification\",\n",
        "        title_fontsize=11\n",
        "    )\n",
        "    plt.setp(legend.get_title(), fontweight='bold')\n",
        "\n",
        "    plt.tight_layout()\n",
        "    return fig\n",
        "\n",
        "try:\n",
        "    fig = create_figure()\n",
        "    temp_img = tempfile.NamedTemporaryFile(suffix=\".png\", delete=False)\n",
        "    plt.savefig(temp_img.name, dpi=300, bbox_inches='tight')\n",
        "    plt.close()\n",
        "\n",
        "    pdf = FPDF()\n",
        "    pdf.add_page()\n",
        "    pdf.set_font('Arial', 'B', 16)\n",
        "    pdf.ln(5)\n",
        "    pdf.image(temp_img.name, x=10, y=30, w=190)\n",
        "\n",
        "    output_path = \"/content/drive/MyDrive/Data/china.pdf\"\n",
        "    pdf.output(output_path)\n",
        "\n",
        "    temp_img.close()\n",
        "    os.unlink(temp_img.name)\n",
        "    print(f\"PDF successfully saved to: {output_path}\")\n",
        "\n",
        "except Exception as e:\n",
        "    print(f\"Error: {str(e)}\")\n"
      ],
      "metadata": {
        "colab": {
          "base_uri": "https://localhost:8080/"
        },
        "id": "2kEQdhNHeQl2",
        "outputId": "a43f17fa-e4f3-4d20-bc99-804d96344467"
      },
      "execution_count": 2,
      "outputs": [
        {
          "output_type": "stream",
          "name": "stdout",
          "text": [
            "PDF successfully saved to: /content/drive/MyDrive/Data/china.pdf\n"
          ]
        }
      ]
    }
  ]
}